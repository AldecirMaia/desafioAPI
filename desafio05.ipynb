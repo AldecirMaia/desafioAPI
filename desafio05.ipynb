{
 "cells": [
  {
   "cell_type": "code",
   "execution_count": 34,
   "metadata": {},
   "outputs": [],
   "source": [
    "#!pip install flask_ngrok\n",
    "#!pip install Flask"
   ]
  },
  {
   "cell_type": "code",
   "execution_count": 35,
   "metadata": {},
   "outputs": [],
   "source": [
    "import pandas as pd\n",
    "from flask_ngrok import run_with_ngrok\n",
    "from flask import request, jsonify, Flask\n",
    "import random as rk"
   ]
  },
  {
   "cell_type": "code",
   "execution_count": 36,
   "metadata": {},
   "outputs": [],
   "source": [
    "app = Flask(__name__)\n",
    "run_with_ngrok(app)"
   ]
  },
  {
   "cell_type": "code",
   "execution_count": 37,
   "metadata": {},
   "outputs": [],
   "source": [
    "d = [\n",
    "    {\"nome\": \"Mahesh\",\"City\": \"Bangalore\", \"Country\":\"inidia\"},\n",
    "    {\"nome\": \"Alex\", \"City\": \"London\", \"Country\": \"UK\"},\n",
    "    {\"nome\": \"Nikolas\", \"City\": \"Bangalore\", \"Country\": \"inidia\", \"idade\": 60},\n",
    "    {\"nome\": \"Nikolas\", \"City\": \"Bangalore\", \"Country\": \"inidia\", \"idade\": 60},\n",
    "    {\"nome\": \"Nikolas\", \"City\": \"Bangalore\", \"Country\": \"inidia\", \"idade\": 60}\n",
    "]"
   ]
  },
  {
   "cell_type": "code",
   "execution_count": 38,
   "metadata": {},
   "outputs": [],
   "source": [
    "app = Flask(__name__)"
   ]
  },
  {
   "cell_type": "code",
   "execution_count": 39,
   "metadata": {},
   "outputs": [],
   "source": [
    "@app.route(\"/\")\n",
    "\n",
    "def home():\n",
    "    return \"<marquee><h3>TO CHECK IN PUT ADD 'input' TO THE URL ADD TO CHECK OUT PUT '/output' TO THE URL.</h3></marquee>\""
   ]
  },
  {
   "cell_type": "code",
   "execution_count": 40,
   "metadata": {},
   "outputs": [],
   "source": [
    "@app.route(\"/input\")\n",
    "def input():\n",
    "  return jsonify(d)"
   ]
  },
  {
   "cell_type": "code",
   "execution_count": 41,
   "metadata": {},
   "outputs": [
    {
     "name": "stdout",
     "output_type": "stream",
     "text": [
      " * Serving Flask app '__main__'\n",
      " * Debug mode: off\n"
     ]
    },
    {
     "name": "stderr",
     "output_type": "stream",
     "text": [
      "WARNING: This is a development server. Do not use it in a production deployment. Use a production WSGI server instead.\n",
      " * Running on http://127.0.0.1:5000\n",
      "Press CTRL+C to quit\n",
      "127.0.0.1 - - [28/Jan/2024 09:53:27] \"GET / HTTP/1.1\" 200 -\n",
      "127.0.0.1 - - [28/Jan/2024 09:53:37] \"GET /input HTTP/1.1\" 200 -\n",
      "127.0.0.1 - - [28/Jan/2024 09:53:40] \"GET /output HTTP/1.1\" 200 -\n"
     ]
    }
   ],
   "source": [
    "@app.route('/output', methods=['GET', 'POST'])\n",
    "def outputRoute():\n",
    "    pred = rk.choice([\"positive\", \"negative\"])\n",
    "    nd = d.copy()\n",
    "    nd[\"prediction\"] = pred\n",
    "    return jsonify(nd)\n",
    "\n",
    "\n",
    "app.run()"
   ]
  }
 ],
 "metadata": {
  "kernelspec": {
   "display_name": "venv",
   "language": "python",
   "name": "python3"
  },
  "language_info": {
   "codemirror_mode": {
    "name": "ipython",
    "version": 3
   },
   "file_extension": ".py",
   "mimetype": "text/x-python",
   "name": "python",
   "nbconvert_exporter": "python",
   "pygments_lexer": "ipython3",
   "version": "3.10.2"
  }
 },
 "nbformat": 4,
 "nbformat_minor": 2
}
